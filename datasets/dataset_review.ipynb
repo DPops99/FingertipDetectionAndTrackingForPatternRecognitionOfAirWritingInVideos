{
 "cells": [
  {
   "cell_type": "markdown",
   "id": "579ed53a-95e0-43fb-a936-66235c6029f1",
   "metadata": {},
   "source": [
    "## FreiHAND dataset class"
   ]
  },
  {
   "cell_type": "code",
   "execution_count": 1,
   "id": "c52c7b7a-600b-477a-b344-0411016d11e4",
   "metadata": {},
   "outputs": [
    {
     "name": "stderr",
     "output_type": "stream",
     "text": [
      "/home/popa/miniconda3/envs/fdt/lib/python3.10/site-packages/tqdm/auto.py:22: TqdmWarning: IProgress not found. Please update jupyter and ipywidgets. See https://ipywidgets.readthedocs.io/en/stable/user_install.html\n",
      "  from .autonotebook import tqdm as notebook_tqdm\n"
     ]
    }
   ],
   "source": [
    "from torch.utils.data import Dataset, DataLoader\n",
    "from os.path import join\n",
    "from os import listdir\n",
    "from PIL import Image\n",
    "import torchvision.transforms.functional as TF\n",
    "\n",
    "class FreiHANDDataset(Dataset):\n",
    "    def __init__(self, root):\n",
    "        self.root = root\n",
    "        self.paths = listdir(join(root, 'training', 'mask'))\n",
    "        size = len(self.paths)\n",
    "\n",
    "    def __getitem__(self, item):\n",
    "        id = self.paths[item]\n",
    "        img_path = join(self.root, 'training', 'rgb', id)\n",
    "        mask_path = join(self.root, 'training', 'mask', id)\n",
    "\n",
    "        img = Image.open(img_path).convert('RGB')\n",
    "        mask = Image.open(mask_path).convert('L')\n",
    "        sample = {\n",
    "            'img': TF.to_tensor(img), \n",
    "            'mask': TF.to_tensor(mask)\n",
    "        }\n",
    "\n",
    "        return sample\n",
    "\n",
    "    def __len__(self):\n",
    "        return len(self.paths)"
   ]
  },
  {
   "cell_type": "code",
   "execution_count": 2,
   "id": "bb6ddc5f-093d-4c24-8315-2408dc90ba5d",
   "metadata": {},
   "outputs": [],
   "source": [
    "from torchvision.transforms import transforms\n",
    "\n",
    "def view_image(dataset_path):\n",
    "    dataset = FreiHANDDataset(\n",
    "        root=dataset_path\n",
    "    )\n",
    "    dataloader = DataLoader(\n",
    "        dataset,\n",
    "        batch_size=1\n",
    "    )\n",
    "    batch = next(iter(dataloader))\n",
    "    print('batch keys: \\n{}'.format(batch.keys()))\n",
    "    print('img size: \\n{}'.format(batch['img'].size()))\n",
    "    print('mask size: \\n{}'.format(batch['mask'].size()))\n",
    "    masks = batch['mask']\n",
    "    mask = transforms.ToPILImage()(masks[0])\n",
    "    mask.show()"
   ]
  },
  {
   "cell_type": "code",
   "execution_count": 3,
   "id": "6cfabd7c-6bf7-4808-a564-9e9f3637982e",
   "metadata": {},
   "outputs": [
    {
     "name": "stdout",
     "output_type": "stream",
     "text": [
      "batch keys: \n",
      "dict_keys(['img', 'mask'])\n",
      "img size: \n",
      "torch.Size([1, 3, 224, 224])\n",
      "mask size: \n",
      "torch.Size([1, 1, 224, 224])\n"
     ]
    }
   ],
   "source": [
    "FREIHAND_PATH = '/home/popa/Documents/fingertip_detection_and_tracking/datasets/fdt/segmentation_datasets/FreiHAND_pub_v2'\n",
    "view_image(\n",
    "    dataset_path = FREIHAND_PATH\n",
    ")"
   ]
  },
  {
   "cell_type": "code",
   "execution_count": null,
   "id": "ad2b7d4f-d021-4dda-a304-806c5adf0236",
   "metadata": {},
   "outputs": [],
   "source": []
  }
 ],
 "metadata": {
  "kernelspec": {
   "display_name": "Python 3 (ipykernel)",
   "language": "python",
   "name": "python3"
  },
  "language_info": {
   "codemirror_mode": {
    "name": "ipython",
    "version": 3
   },
   "file_extension": ".py",
   "mimetype": "text/x-python",
   "name": "python",
   "nbconvert_exporter": "python",
   "pygments_lexer": "ipython3",
   "version": "3.10.9"
  }
 },
 "nbformat": 4,
 "nbformat_minor": 5
}

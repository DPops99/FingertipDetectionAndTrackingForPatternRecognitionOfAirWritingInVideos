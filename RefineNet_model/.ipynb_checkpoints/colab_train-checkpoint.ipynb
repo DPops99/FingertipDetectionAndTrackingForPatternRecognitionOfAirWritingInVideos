{
 "cells": [
  {
   "cell_type": "markdown",
   "id": "b689057f",
   "metadata": {},
   "source": [
    "# Colab notebook for training Refine Net"
   ]
  },
  {
   "cell_type": "markdown",
   "id": "8d370717",
   "metadata": {},
   "source": [
    "## 1. Set path to FreiHAND Dataset zip file"
   ]
  },
  {
   "cell_type": "code",
   "execution_count": 1,
   "id": "3f359832",
   "metadata": {},
   "outputs": [],
   "source": [
    "PATH = 'path_to_freiHAND_zip' # this is the only thing you should change, the rest you can just run"
   ]
  },
  {
   "cell_type": "code",
   "execution_count": null,
   "id": "657b55c9",
   "metadata": {},
   "outputs": [],
   "source": [
    "!unzip PATH"
   ]
  },
  {
   "cell_type": "markdown",
   "id": "e73a5fd4",
   "metadata": {},
   "source": [
    "## 2. Connect to GitHub repo"
   ]
  },
  {
   "cell_type": "code",
   "execution_count": null,
   "id": "3b5e89c5",
   "metadata": {},
   "outputs": [],
   "source": [
    "!git clone https://github.com/DPops99/FingertipDetectionAndTrackingForPatternRecognitionOfAirWritingInVideos.git"
   ]
  },
  {
   "cell_type": "markdown",
   "id": "afcc70be",
   "metadata": {},
   "source": [
    "## 3. Go to the RefineNet directory"
   ]
  },
  {
   "cell_type": "code",
   "execution_count": null,
   "id": "5a425a9b",
   "metadata": {},
   "outputs": [],
   "source": [
    "cd /content/FingertipDetectionAndTrackingForPatternRecognitionOfAirWritingInVideos/RefineNet_model"
   ]
  },
  {
   "cell_type": "markdown",
   "id": "f3415937",
   "metadata": {},
   "source": [
    "## 4. Run train.py script"
   ]
  },
  {
   "cell_type": "code",
   "execution_count": null,
   "id": "1474393c",
   "metadata": {},
   "outputs": [],
   "source": [
    "python3 train.py"
   ]
  }
 ],
 "metadata": {
  "kernelspec": {
   "display_name": "Python 3 (ipykernel)",
   "language": "python",
   "name": "python3"
  },
  "language_info": {
   "codemirror_mode": {
    "name": "ipython",
    "version": 3
   },
   "file_extension": ".py",
   "mimetype": "text/x-python",
   "name": "python",
   "nbconvert_exporter": "python",
   "pygments_lexer": "ipython3",
   "version": "3.8.10"
  }
 },
 "nbformat": 4,
 "nbformat_minor": 5
}

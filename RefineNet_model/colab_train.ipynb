{
 "cells": [
  {
   "cell_type": "markdown",
   "id": "773b7760",
   "metadata": {},
   "source": [
    "# Colab notebook for training Refine Net"
   ]
  },
  {
   "cell_type": "markdown",
   "id": "97612373",
   "metadata": {},
   "source": [
    "## 1. Mount Google Drive"
   ]
  },
  {
   "cell_type": "code",
   "execution_count": null,
   "id": "d0c4a19c",
   "metadata": {},
   "outputs": [],
   "source": [
    "from google.colab import drive\n",
    "drive.mount('/content/drive')"
   ]
  },
  {
   "cell_type": "markdown",
   "id": "38d20949",
   "metadata": {},
   "source": [
    "## 2. Set path to FreiHAND Dataset zip file"
   ]
  },
  {
   "cell_type": "code",
   "execution_count": 1,
   "id": "f8cc93f9",
   "metadata": {},
   "outputs": [],
   "source": [
    "PATH = 'path_to_freiHAND_zip' # this is the only thing you should change, the rest you can just run"
   ]
  },
  {
   "cell_type": "code",
   "execution_count": null,
   "id": "36952239",
   "metadata": {},
   "outputs": [],
   "source": [
    "!unzip PATH"
   ]
  },
  {
   "cell_type": "markdown",
   "id": "6f9cc31f",
   "metadata": {},
   "source": [
    "## 3. Connect to GitHub repo"
   ]
  },
  {
   "cell_type": "code",
   "execution_count": null,
   "id": "d7497fec",
   "metadata": {},
   "outputs": [],
   "source": [
    "!git clone https://github.com/DPops99/FingertipDetectionAndTrackingForPatternRecognitionOfAirWritingInVideos.git"
   ]
  },
  {
   "cell_type": "markdown",
   "id": "5db72ea3",
   "metadata": {},
   "source": [
    "## 4. Go to the RefineNet directory"
   ]
  },
  {
   "cell_type": "code",
   "execution_count": null,
   "id": "2185bf29",
   "metadata": {},
   "outputs": [],
   "source": [
    "cd /content/FingertipDetectionAndTrackingForPatternRecognitionOfAirWritingInVideos/RefineNet_model"
   ]
  },
  {
   "cell_type": "markdown",
   "id": "c81220bc",
   "metadata": {},
   "source": [
    "## 5. Run train.py script"
   ]
  },
  {
   "cell_type": "code",
   "execution_count": null,
   "id": "85696041",
   "metadata": {},
   "outputs": [],
   "source": [
    "python3 train.py"
   ]
  }
 ],
 "metadata": {
  "kernelspec": {
   "display_name": "Python 3 (ipykernel)",
   "language": "python",
   "name": "python3"
  },
  "language_info": {
   "codemirror_mode": {
    "name": "ipython",
    "version": 3
   },
   "file_extension": ".py",
   "mimetype": "text/x-python",
   "name": "python",
   "nbconvert_exporter": "python",
   "pygments_lexer": "ipython3",
   "version": "3.8.10"
  }
 },
 "nbformat": 4,
 "nbformat_minor": 5
}

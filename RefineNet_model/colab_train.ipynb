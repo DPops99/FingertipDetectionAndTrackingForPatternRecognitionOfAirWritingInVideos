{
 "cells": [
  {
   "cell_type": "markdown",
   "id": "b71f407d",
   "metadata": {},
   "source": [
    "# Colab notebook for training Refine Net"
   ]
  },
  {
   "cell_type": "markdown",
   "id": "ab2ce056",
   "metadata": {},
   "source": [
    "### Overview\n",
    "Here is the notebook for training RefineNet model. You only need **FreiHAND dataset zip file**.\n",
    "\n",
    "There are 2 ways to do load the zip file:\n",
    "- mount your Google Drive (storing the zip file beforehand on the drive is required)\n",
    "- place the zip file inside the running colab notebook (skip step 1.)"
   ]
  },
  {
   "cell_type": "markdown",
   "id": "9a5d6a1c",
   "metadata": {},
   "source": [
    "## 1. Mount Google Drive (second option is to place the freiHand dataset zip file inside the /content/ directory)"
   ]
  },
  {
   "cell_type": "code",
   "execution_count": null,
   "id": "39c70108",
   "metadata": {},
   "outputs": [],
   "source": [
    "from google.colab import drive\n",
    "drive.mount('/content/drive')"
   ]
  },
  {
   "cell_type": "markdown",
   "id": "b16b6f62",
   "metadata": {},
   "source": [
    "## 2. Set path to FreiHAND Dataset zip file"
   ]
  },
  {
   "cell_type": "code",
   "execution_count": null,
   "id": "a3875b46",
   "metadata": {},
   "outputs": [],
   "source": [
    "!unzip PATH_TO_FREIHAND_ZIP # place the path of the zip file"
   ]
  },
  {
   "cell_type": "markdown",
   "id": "8ece8557",
   "metadata": {},
   "source": [
    "## 3. Connect to GitHub repo"
   ]
  },
  {
   "cell_type": "code",
   "execution_count": null,
   "id": "e959c8ec",
   "metadata": {},
   "outputs": [],
   "source": [
    "!git clone https://github.com/DPops99/FingertipDetectionAndTrackingForPatternRecognitionOfAirWritingInVideos.git"
   ]
  },
  {
   "cell_type": "markdown",
   "id": "618c7cc3",
   "metadata": {},
   "source": [
    "## 4. Go to the RefineNet directory"
   ]
  },
  {
   "cell_type": "code",
   "execution_count": null,
   "id": "64f8274b",
   "metadata": {},
   "outputs": [],
   "source": [
    "cd /content/FingertipDetectionAndTrackingForPatternRecognitionOfAirWritingInVideos/RefineNet_model"
   ]
  },
  {
   "cell_type": "markdown",
   "id": "21d7fb23",
   "metadata": {},
   "source": [
    "## 5. Run train.py script"
   ]
  },
  {
   "cell_type": "code",
   "execution_count": null,
   "id": "39ce2fbe",
   "metadata": {},
   "outputs": [],
   "source": [
    "!python train.py --config ./config.yaml"
   ]
  }
 ],
 "metadata": {
  "kernelspec": {
   "display_name": "Python 3 (ipykernel)",
   "language": "python",
   "name": "python3"
  },
  "language_info": {
   "codemirror_mode": {
    "name": "ipython",
    "version": 3
   },
   "file_extension": ".py",
   "mimetype": "text/x-python",
   "name": "python",
   "nbconvert_exporter": "python",
   "pygments_lexer": "ipython3",
   "version": "3.8.10"
  }
 },
 "nbformat": 4,
 "nbformat_minor": 5
}

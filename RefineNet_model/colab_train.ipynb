{
 "cells": [
  {
   "cell_type": "markdown",
   "id": "dfdfbd5b",
   "metadata": {},
   "source": [
    "# Colab notebook for training Refine Net"
   ]
  },
  {
   "cell_type": "markdown",
   "id": "29719922",
   "metadata": {},
   "source": [
    "### Overview\n",
    "Here is the notebook for training RefineNet model. You only need .\n",
    "\n",
    "There are 2 ways to do load the zip file:\n",
    "- mount your Google Drive (storing the zip file beforehand on the drive is required)\n",
    "- place the zip file inside the running colab notebook (skip step 1.)"
   ]
  },
  {
   "cell_type": "markdown",
   "id": "2657bb73",
   "metadata": {},
   "source": [
    "## 1. Mount Google Drive (second option is to place the freiHand dataset zip file inside the /content/ directory)"
   ]
  },
  {
   "cell_type": "code",
   "execution_count": null,
   "id": "bd13deb2",
   "metadata": {},
   "outputs": [],
   "source": [
    "from google.colab import drive\n",
    "drive.mount('/content/drive')"
   ]
  },
  {
   "cell_type": "markdown",
   "id": "eaf749b7",
   "metadata": {},
   "source": [
    "## 2. Set path to FreiHAND Dataset zip file"
   ]
  },
  {
   "cell_type": "code",
   "execution_count": null,
   "id": "b0b935c6",
   "metadata": {},
   "outputs": [],
   "source": [
    "!unzip PATH_TO_FREIHAND_ZIP # place the path of the zip file"
   ]
  },
  {
   "cell_type": "markdown",
   "id": "eaa8b18c",
   "metadata": {},
   "source": [
    "## 3. Connect to GitHub repo"
   ]
  },
  {
   "cell_type": "code",
   "execution_count": null,
   "id": "7514f2b6",
   "metadata": {},
   "outputs": [],
   "source": [
    "!git clone https://github.com/DPops99/FingertipDetectionAndTrackingForPatternRecognitionOfAirWritingInVideos.git"
   ]
  },
  {
   "cell_type": "markdown",
   "id": "a8c2d871",
   "metadata": {},
   "source": [
    "## 4. Go to the RefineNet directory"
   ]
  },
  {
   "cell_type": "code",
   "execution_count": null,
   "id": "68a44c12",
   "metadata": {},
   "outputs": [],
   "source": [
    "cd /content/FingertipDetectionAndTrackingForPatternRecognitionOfAirWritingInVideos/RefineNet_model"
   ]
  },
  {
   "cell_type": "markdown",
   "id": "74d52aac",
   "metadata": {},
   "source": [
    "## 5. Run train.py script"
   ]
  },
  {
   "cell_type": "code",
   "execution_count": null,
   "id": "070e2d69",
   "metadata": {},
   "outputs": [],
   "source": [
    "!python train.py --config ./config.yaml"
   ]
  }
 ],
 "metadata": {
  "kernelspec": {
   "display_name": "Python 3 (ipykernel)",
   "language": "python",
   "name": "python3"
  },
  "language_info": {
   "codemirror_mode": {
    "name": "ipython",
    "version": 3
   },
   "file_extension": ".py",
   "mimetype": "text/x-python",
   "name": "python",
   "nbconvert_exporter": "python",
   "pygments_lexer": "ipython3",
   "version": "3.8.10"
  }
 },
 "nbformat": 4,
 "nbformat_minor": 5
}
